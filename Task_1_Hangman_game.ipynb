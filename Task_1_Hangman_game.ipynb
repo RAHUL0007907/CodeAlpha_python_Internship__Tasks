{
 "cells": [
  {
   "cell_type": "code",
   "execution_count": 1,
   "id": "e915d7f0-6cc9-4beb-8d79-cc317dad6620",
   "metadata": {},
   "outputs": [
    {
     "name": "stdout",
     "output_type": "stream",
     "text": [
      "\n",
      "Welcome to Hangman Game!!!\n",
      "\n",
      "Max Attempts is Five Times Guess  a Word.\n",
      "_______\n"
     ]
    },
    {
     "name": "stdin",
     "output_type": "stream",
     "text": [
      "Guess a letter:  c\n"
     ]
    },
    {
     "name": "stdout",
     "output_type": "stream",
     "text": [
      "\n",
      "Incorrect! Attempts left: 4\n",
      "_______\n"
     ]
    },
    {
     "name": "stdin",
     "output_type": "stream",
     "text": [
      "Guess a letter:  h\n"
     ]
    },
    {
     "name": "stdout",
     "output_type": "stream",
     "text": [
      "h______\n"
     ]
    },
    {
     "name": "stdin",
     "output_type": "stream",
     "text": [
      "Guess a letter:  a\n"
     ]
    },
    {
     "name": "stdout",
     "output_type": "stream",
     "text": [
      "ha___a_\n"
     ]
    },
    {
     "name": "stdin",
     "output_type": "stream",
     "text": [
      "Guess a letter:  n\n"
     ]
    },
    {
     "name": "stdout",
     "output_type": "stream",
     "text": [
      "han__an\n"
     ]
    },
    {
     "name": "stdin",
     "output_type": "stream",
     "text": [
      "Guess a letter:  g\n"
     ]
    },
    {
     "name": "stdout",
     "output_type": "stream",
     "text": [
      "hang_an\n"
     ]
    },
    {
     "name": "stdin",
     "output_type": "stream",
     "text": [
      "Guess a letter:  m\n"
     ]
    },
    {
     "name": "stdout",
     "output_type": "stream",
     "text": [
      "hangman\n",
      "\n",
      "Congratulations!!! You guessed the word.\n"
     ]
    }
   ],
   "source": [
    "import random\n",
    "\n",
    "def choose_word():\n",
    "    words = [\"taskone\",\"hangman\",\"python\", \"internship\", \"codeaplha\"]\n",
    "    return random.choice(words)\n",
    "\n",
    "def display_word(word, guessed_letters):\n",
    "    display = \"\"\n",
    "    for letter in word:\n",
    "        if letter in guessed_letters:\n",
    "            display += letter\n",
    "        else:\n",
    "            display += \"_\"\n",
    "    return display\n",
    "\n",
    "def hangman():\n",
    "    max_attempts = 5 \n",
    "    guessed_letters = []\n",
    "    word_to_guess = choose_word()\n",
    "    attempts = 0\n",
    "\n",
    "    print(\"\\nWelcome to Hangman Game!!!\")\n",
    "    print(\"\\nMax Attempts is Five Times Guess  a Word.\")\n",
    "    print(display_word(word_to_guess, guessed_letters))\n",
    "\n",
    "    while \"_\" in display_word(word_to_guess, guessed_letters) and attempts < max_attempts:\n",
    "        guess = input(\"Guess a letter: \").lower()\n",
    "\n",
    "        if len(guess) != 1 or not guess.isalpha():\n",
    "            print(\"\\nPlease enter a valid single letter.\")\n",
    "            continue\n",
    "\n",
    "        if guess in guessed_letters:\n",
    "            print(\"\\nYou've already guessed that letter. Try again.\")\n",
    "            continue\n",
    "\n",
    "        guessed_letters.append(guess)\n",
    "\n",
    "        if guess not in word_to_guess:\n",
    "            attempts += 1\n",
    "            print(f\"\\nIncorrect! Attempts left: {max_attempts - attempts}\")\n",
    "        \n",
    "        print(display_word(word_to_guess, guessed_letters))\n",
    "\n",
    "    if \"_\" not in display_word(word_to_guess, guessed_letters):\n",
    "        print(\"\\nCongratulations!!! You guessed the word.\")\n",
    "    else:\n",
    "        print(f\"\\nSorry, you ran out of attempts. The word was '{word_to_guess}'.\")\n",
    "\n",
    "if __name__ == \"__main__\":\n",
    "    hangman()"
   ]
  },
  {
   "cell_type": "code",
   "execution_count": null,
   "id": "48509793-58e5-4c5e-b744-3604d61103b2",
   "metadata": {},
   "outputs": [],
   "source": []
  }
 ],
 "metadata": {
  "kernelspec": {
   "display_name": "Python 3 (ipykernel)",
   "language": "python",
   "name": "python3"
  },
  "language_info": {
   "codemirror_mode": {
    "name": "ipython",
    "version": 3
   },
   "file_extension": ".py",
   "mimetype": "text/x-python",
   "name": "python",
   "nbconvert_exporter": "python",
   "pygments_lexer": "ipython3",
   "version": "3.12.4"
  }
 },
 "nbformat": 4,
 "nbformat_minor": 5
}
