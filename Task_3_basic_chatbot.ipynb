{
 "cells": [
  {
   "cell_type": "code",
   "execution_count": 1,
   "id": "47a6cbc7-ac0d-432a-85c0-ac513d4b5fa9",
   "metadata": {},
   "outputs": [
    {
     "name": "stdout",
     "output_type": "stream",
     "text": [
      "Hi! How are you doing today?\n"
     ]
    },
    {
     "name": "stdin",
     "output_type": "stream",
     "text": [
      "You:  Hello!\n"
     ]
    },
    {
     "name": "stdout",
     "output_type": "stream",
     "text": [
      "Chatbot: Hey! How can I assist you?\n"
     ]
    },
    {
     "name": "stdin",
     "output_type": "stream",
     "text": [
      "You:  Can you tell me a cricket fact?\n"
     ]
    },
    {
     "name": "stdout",
     "output_type": "stream",
     "text": [
      "Chatbot: Here's a cool cricket fact for you!\n",
      "Chatbot: The longest Test match lasted 12 days, played between England and South Africa in 1939. It ended in a draw because England had to catch their ship home.\n"
     ]
    },
    {
     "name": "stdin",
     "output_type": "stream",
     "text": [
      "You:  I'm good. Bye!\n"
     ]
    },
    {
     "name": "stdout",
     "output_type": "stream",
     "text": [
      "Chatbot: Take care! Have a great day ahead.\n"
     ]
    }
   ],
   "source": [
    "import random\n",
    "\n",
    "# Cricket facts list\n",
    "cricket_facts = [\n",
    "    \"The longest Test match lasted 12 days, played between England and South Africa in 1939. It ended in a draw because England had to catch their ship home.\",\n",
    "    \"Sachin Tendulkar is the only player to score 100 international centuries in cricket history.\",\n",
    "    \"Chris Gayle is the only batsman to hit a six off the first ball of a Test match.\",\n",
    "    \"The first Cricket World Cup was held in 1975, and West Indies were the first champions.\",\n",
    "    \"Jim Laker holds the record for the best bowling figures in a Test match, taking 19 wickets for 90 runs in 1956.\",\n",
    "    \"The shortest ever Test match was played between Australia and South Africa in 1932, lasting only 5 hours and 53 minutes.\",\n",
    "]\n",
    "\n",
    "# Expressive chatbot with cricket facts\n",
    "def chatbot():\n",
    "    greetings = [\"Hello there! How can I brighten your day?\", \n",
    "                 \"Hi! How are you doing today?\", \n",
    "                 \"Hey! How can I assist you?\"]\n",
    "    \n",
    "    farewells = [\"Goodbye! Hope to chat with you again soon.\", \n",
    "                 \"Take care! Have a great day ahead.\", \n",
    "                 \"See you later! Stay awesome!\"]\n",
    "    \n",
    "    responses = {\n",
    "        \"how are you\": [\"I'm doing fantastic, thanks for asking! How about you?\", \n",
    "                        \"I'm just a bunch of code, but I'd say I'm doing great!\", \n",
    "                        \"Feeling like a million lines of perfectly written code!\"],\n",
    "        \n",
    "        \"your name\": [\"I'm CricketBot, your cricket-loving assistant!\", \n",
    "                      \"I go by CricketBot! What's yours?\", \n",
    "                      \"Just call me CricketBot, always here to chat!\"],\n",
    "    }\n",
    "\n",
    "    print(random.choice(greetings))\n",
    "\n",
    "    while True:\n",
    "        user_input = input(\"You: \").lower()\n",
    "\n",
    "        if 'hi' in user_input or 'hello' in user_input:\n",
    "            print(\"Chatbot: \" + random.choice(greetings))\n",
    "        \n",
    "        elif 'how are you' in user_input:\n",
    "            print(\"Chatbot: \" + random.choice(responses[\"how are you\"]))\n",
    "        \n",
    "        elif 'your name' in user_input:\n",
    "            print(\"Chatbot: \" + random.choice(responses[\"your name\"]))\n",
    "        \n",
    "        elif 'cricket fact' in user_input or 'cricket' in user_input:\n",
    "            print(\"Chatbot: Here's a cool cricket fact for you!\")\n",
    "            print(\"Chatbot: \" + random.choice(cricket_facts))\n",
    "        \n",
    "        elif 'bye' in user_input or 'exit' in user_input:\n",
    "            print(\"Chatbot: \" + random.choice(farewells))\n",
    "            break\n",
    "        \n",
    "        else:\n",
    "            print(\"Chatbot: Sorry, I didn't understand that. Could you rephrase or ask for a cricket fact?\")\n",
    "\n",
    "# Run the chatbot\n",
    "chatbot()\n"
   ]
  },
  {
   "cell_type": "code",
   "execution_count": null,
   "id": "4bf90c5c-31ec-4f46-90ee-1392e135e2f5",
   "metadata": {},
   "outputs": [],
   "source": []
  }
 ],
 "metadata": {
  "kernelspec": {
   "display_name": "Python 3 (ipykernel)",
   "language": "python",
   "name": "python3"
  },
  "language_info": {
   "codemirror_mode": {
    "name": "ipython",
    "version": 3
   },
   "file_extension": ".py",
   "mimetype": "text/x-python",
   "name": "python",
   "nbconvert_exporter": "python",
   "pygments_lexer": "ipython3",
   "version": "3.12.4"
  }
 },
 "nbformat": 4,
 "nbformat_minor": 5
}
